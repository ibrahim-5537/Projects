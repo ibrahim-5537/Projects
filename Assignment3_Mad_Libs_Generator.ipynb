{
 "cells": [
  {
   "cell_type": "code",
   "execution_count": 16,
   "metadata": {},
   "outputs": [
    {
     "name": "stdout",
     "output_type": "stream",
     "text": [
      "The man] coocked quickly with the delicious tom.\n"
     ]
    }
   ],
   "source": [
    "# Assignment 3 - Mad Libs Generator\n",
    "\n",
    "\n",
    "def mad_libs():\n",
    "    \n",
    "    # prompt user for inputs for individual elements of the story\n",
    "    noun = input(\"Enter a singular noun (boy, girl, person, etc.): \")\n",
    "    verb = input(\"Enter a verb in the past tense (ran, swam, danced. etc.): \")\n",
    "    adjective = input(\"Enter an adjective (hot, big, fast): \")\n",
    "    adverb = input(\"Enter an adverb (quickly, rarely, always, etc): \")\n",
    "    preposition = input(\"Enter a preposition (of, with, from etc): \")\n",
    "    proper_noun = input(\"Enter a proper noun(name of a person, place or thing): \")\n",
    "\n",
    "    # combine the elements to create a string variable called 'story'. The 'f' fuction embeds the variables\n",
    "    # inside the quotes and maintains the formatting.\n",
    "    story = f\"The {noun} {verb} {adverb} {preposition} the {adjective} {proper_noun}.\"\n",
    "\n",
    "    # print the story\n",
    "    print(story)\n",
    "\n",
    "mad_libs()"
   ]
  }
 ],
 "metadata": {
  "kernelspec": {
   "display_name": "Python 3",
   "language": "python",
   "name": "python3"
  },
  "language_info": {
   "codemirror_mode": {
    "name": "ipython",
    "version": 3
   },
   "file_extension": ".py",
   "mimetype": "text/x-python",
   "name": "python",
   "nbconvert_exporter": "python",
   "pygments_lexer": "ipython3",
   "version": "3.11.1"
  },
  "orig_nbformat": 4,
  "vscode": {
   "interpreter": {
    "hash": "61c66889c5241e0a915a9e821d3a7a3fa7ad876603621b008cb692b005b0c32b"
   }
  }
 },
 "nbformat": 4,
 "nbformat_minor": 2
}
