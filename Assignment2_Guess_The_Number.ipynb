{
 "cells": [
  {
   "cell_type": "code",
   "execution_count": null,
   "metadata": {},
   "outputs": [],
   "source": [
    "# Assignment 2 - Guess The Number\n",
    "\n",
    "import random\n",
    "\n",
    "# Establish function\n",
    "\n",
    "def guess_number():\n",
    "    \n",
    "    # Define randomly generated variable\n",
    "    number = random.randint(1, 100)\n",
    "    \n",
    "    # Establish a continous loop using 'while True' funcion which can only be broken using 'break' command. \n",
    "    while True:\n",
    "\n",
    "        # User must now input guess\n",
    "        user_guess = input(\"Guess a number between 1 and 100:\")\n",
    "\n",
    "        # Use the 'isadigit' function to check if entered value is a valid integer \n",
    "        if user_guess.isdigit():\n",
    "            user_guess = int(user_guess)\n",
    "\n",
    "            # Break loop if guess is correct\n",
    "            if user_guess == number:\n",
    "                print(\"Congratulations! You guessed the correct number.\")\n",
    "                break\n",
    "\n",
    "            # Creat output for when guess is too low/high\n",
    "            elif user_guess < number:\n",
    "                print(\"Too low. Guess again.\")\n",
    "            else:\n",
    "                print(\"Too high. Guess again.\")\n",
    "\n",
    "        # Prompt if entered value is not an integer        \n",
    "        else:\n",
    "            print(\"Please enter a valid number.\")\n",
    "\n",
    "guess_number()\n"
   ]
  }
 ],
 "metadata": {
  "kernelspec": {
   "display_name": "Python 3",
   "language": "python",
   "name": "python3"
  },
  "language_info": {
   "codemirror_mode": {
    "name": "ipython",
    "version": 3
   },
   "file_extension": ".py",
   "mimetype": "text/x-python",
   "name": "python",
   "nbconvert_exporter": "python",
   "pygments_lexer": "ipython3",
   "version": "3.11.1 (tags/v3.11.1:a7a450f, Dec  6 2022, 19:58:39) [MSC v.1934 64 bit (AMD64)]"
  },
  "orig_nbformat": 4,
  "vscode": {
   "interpreter": {
    "hash": "61c66889c5241e0a915a9e821d3a7a3fa7ad876603621b008cb692b005b0c32b"
   }
  }
 },
 "nbformat": 4,
 "nbformat_minor": 2
}
