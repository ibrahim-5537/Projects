{
 "cells": [
  {
   "cell_type": "code",
   "execution_count": null,
   "metadata": {},
   "outputs": [],
   "source": [
    "# Assignment 1 - Dice Rolling Simulator\n",
    "\n",
    "# Load random module\n",
    "\n",
    "import random\n",
    "\n",
    "# define 'question' variable and set up input mechanism  \n",
    "\n",
    "question = input('Would you like to roll the dice [y/n]?')\n",
    "\n",
    "# establish while loop\n",
    "\n",
    "while question != 'n':\n",
    "\n",
    "# if response is 'y' roll dice\n",
    "    if question == 'y':\n",
    "\n",
    "# define 'dice' variable using 'random' function operating for integers between 1-6\n",
    "       \n",
    "        dice = random.randint(1, 6)\n",
    "        print(dice)\n",
    "        question = input('Would you like to roll the dice [y/n]?')\n",
    "\n",
    "# if entry is not either n/y, print 'invalid response' and repeat question\n",
    "\n",
    "    else:\n",
    "        print('Invalid response. Please type \"y\" or \"n\".')\n",
    "        question = input('Would you like to roll the dice [y/n]?')        \n",
    "\n",
    "# entering 'n' ends the loop and prints good-bye message\n",
    "\n",
    "print('Good-bye!')"
   ]
  }
 ],
 "metadata": {
  "kernelspec": {
   "display_name": "Python 3",
   "language": "python",
   "name": "python3"
  },
  "language_info": {
   "codemirror_mode": {
    "name": "ipython",
    "version": 3
   },
   "file_extension": ".py",
   "mimetype": "text/x-python",
   "name": "python",
   "nbconvert_exporter": "python",
   "pygments_lexer": "ipython3",
   "version": "3.11.1 (tags/v3.11.1:a7a450f, Dec  6 2022, 19:58:39) [MSC v.1934 64 bit (AMD64)]"
  },
  "orig_nbformat": 4,
  "vscode": {
   "interpreter": {
    "hash": "61c66889c5241e0a915a9e821d3a7a3fa7ad876603621b008cb692b005b0c32b"
   }
  }
 },
 "nbformat": 4,
 "nbformat_minor": 2
}
